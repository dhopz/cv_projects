{
 "cells": [
  {
   "cell_type": "markdown",
   "metadata": {},
   "source": [
    "# Distribute and allocate tokens to bidders based on a first come first served basis with a condition: everyone gets something"
   ]
  },
  {
   "cell_type": "code",
   "execution_count": 1,
   "metadata": {
    "collapsed": true
   },
   "outputs": [],
   "source": [
    "from collections import Counter\n",
    "from rebalancing_scaleback import results_chart\n",
    "import matplotlib.pyplot as plt\n",
    "import pandas as pd\n",
    "import numpy as np\n",
    "import random"
   ]
  },
  {
   "cell_type": "markdown",
   "metadata": {},
   "source": [
    "Create a random Loan amount"
   ]
  },
  {
   "cell_type": "code",
   "execution_count": 2,
   "metadata": {
    "collapsed": true
   },
   "outputs": [
    {
     "name": "stdout",
     "output_type": "stream",
     "text": [
      "Total Amount to Distribute = 11000.0\n"
     ]
    }
   ],
   "source": [
    "loan_amount = round(random.uniform(10,20),0) * 1000\n",
    "loan_tokens = int(loan_amount/1000)\n",
    "print('Total Amount to Distribute = ' + str(loan_amount))"
   ]
  },
  {
   "cell_type": "code",
   "execution_count": 3,
   "metadata": {
    "collapsed": true
   },
   "outputs": [],
   "source": [
    "customers = ['Customer A', 'Customer B', 'Customer C', 'Customer D']"
   ]
  },
  {
   "cell_type": "markdown",
   "metadata": {},
   "source": [
    "Create a function to create random bids that do not exceed the loan amount based on the amount of customers"
   ]
  },
  {
   "cell_type": "code",
   "execution_count": 4,
   "metadata": {
    "collapsed": true
   },
   "outputs": [],
   "source": [
    "def random_bid_generator(loan_amount, customers):\n",
    "\n",
    "    bids = len(customers)\n",
    "    bid_registry = []\n",
    "    max_bid = loan_amount / 1000\n",
    "\n",
    "    for i in range(bids):\n",
    "        bid_amnt = round(random.uniform(1,max_bid),0) * 1000\n",
    "        bid_registry.append(bid_amnt)\n",
    "        i+=1\n",
    "        \n",
    "    return bid_registry"
   ]
  },
  {
   "cell_type": "markdown",
   "metadata": {},
   "source": [
    "The code below will generate random bids with Customer B has requesting the min of 1000."
   ]
  },
  {
   "cell_type": "code",
   "execution_count": 5,
   "metadata": {
    "collapsed": true
   },
   "outputs": [],
   "source": [
    "bid_registry = random_bid_generator(loan_amount, customers)\n",
    "bid_reg = bid_registry.copy()\n",
    "bid_reg[1] = 1000.00\n",
    "original_bid = bid_reg.copy()"
   ]
  },
  {
   "cell_type": "markdown",
   "metadata": {},
   "source": [
    "Create a Loop to allocate the tokens in a Queue based on first come first served"
   ]
  },
  {
   "cell_type": "code",
   "execution_count": 6,
   "metadata": {
    "collapsed": true
   },
   "outputs": [],
   "source": [
    "q = []\n",
    "token_count = 0\n",
    "\n",
    "for i in range(loan_tokens):\n",
    "    \n",
    "    if token_count == loan_tokens:\n",
    "            break\n",
    "       \n",
    "    for z,x in enumerate(bid_reg):\n",
    "                        \n",
    "        if token_count == loan_tokens:\n",
    "            break\n",
    "            \n",
    "        if x == 0:\n",
    "            continue\n",
    "\n",
    "        tokens = int(x / 1000)\n",
    "        q.append(customers[z])\n",
    "        \n",
    "        remaining_token = x - 1000\n",
    "        bid_reg[z] = remaining_token\n",
    "                \n",
    "        token_count = len(q)"
   ]
  },
  {
   "cell_type": "markdown",
   "metadata": {},
   "source": [
    "Count the Number of items in the Queue to calculate the tokens each customer has been allocated "
   ]
  },
  {
   "cell_type": "code",
   "execution_count": 7,
   "metadata": {
    "collapsed": true
   },
   "outputs": [],
   "source": [
    "df = pd.DataFrame(q, columns= ['Customer'])\n",
    "scaleback = df['Customer'].value_counts() * 1000\n",
    "scaleback = dict(sorted(scaleback.items()))\n",
    "scaleback = list(scaleback.values())"
   ]
  },
  {
   "cell_type": "markdown",
   "metadata": {},
   "source": [
    "Create a Dictionary to Visualise Scalebacks and how it affects each Customer"
   ]
  },
  {
   "cell_type": "code",
   "execution_count": 8,
   "metadata": {
    "collapsed": true
   },
   "outputs": [],
   "source": [
    "# Creating an empty dictionary \n",
    "results = {} \n",
    "  \n",
    "# Adding list as value \n",
    "results['Original Bid'] = original_bid\n",
    "results['Allocation'] = scaleback"
   ]
  },
  {
   "cell_type": "code",
   "execution_count": 9,
   "metadata": {
    "scrolled": false
   },
   "outputs": [
    {
     "data": {
      "image/png": "[encoded data removed]",
      "text/plain": [
       "<Figure size 662.4x360 with 1 Axes>"
      ]
     },
     "metadata": {
      "needs_background": "light"
     },
     "output_type": "display_data"
    }
   ],
   "source": [
    "results_chart(results,customers)\n",
    "plt.show()"
   ]
  }
 ],
 "metadata": {
  "kernelspec": {
   "display_name": "Python 3",
   "language": "python",
   "name": "python3"
  },
  "language_info": {
   "codemirror_mode": {
    "name": "ipython",
    "version": 3
   },
   "file_extension": ".py",
   "mimetype": "text/x-python",
   "name": "python",
   "nbconvert_exporter": "python",
   "pygments_lexer": "ipython3",
   "version": "3.7.3"
  }
 },
 "nbformat": 4,
 "nbformat_minor": 2
}
